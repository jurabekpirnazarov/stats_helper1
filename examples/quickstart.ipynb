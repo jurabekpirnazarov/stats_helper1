{
  "cells": [
    {
      "cell_type": "markdown",
      "metadata": {},
      "source": [
        "# stats_helper quickstart\n",
        "Demonstrates basic usage of the package."
      ]
    },
    {
      "cell_type": "code",
      "execution_count": null,
      "metadata": {},
      "outputs": [],
      "source": [
        "import pandas as pd\n",
        "from stats_helper import load_csv, mean, median, mode, variance, stddev, correlation_matrix, histogram\n",
        "\n",
        "# Create a small sample dataframe\n",
        "df = pd.DataFrame({\n",
        "    'x': [1,2,3,4,5,6,7,8,9,10],\n",
        "    'y': [2,4,1,8,7,3,5,9,6,10],\n",
        "})\n",
        "\n",
        "print('mean(x):', mean(df['x']))\n",
        "print('median(y):', median(df['y']))\n",
        "print('mode(y):', mode(df['y']))\n",
        "print('variance(x):', variance(df['x']))\n",
        "print('stddev(x):', stddev(df['x']))\n",
        "display(correlation_matrix(df))\n",
        "\n",
        "# Plot example\n",
        "histogram(df, 'x', bins=5, out='hist_x.png')\n",
        "print('Saved histogram to hist_x.png')\n"
      ]
    }
  ],
  "metadata": {
    "kernelspec": {
      "display_name": "Python 3",
      "language": "python",
      "name": "python3"
    },
    "language_info": {
      "name": "python",
      "version": "3.10"
    }
  },
  "nbformat": 4,
  "nbformat_minor": 5
}