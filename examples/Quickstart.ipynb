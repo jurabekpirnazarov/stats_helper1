import pandas as pd
from stats_helper import load_csv, mean, median, mode, variance, stddev, correlation_matrix, histogram

# Create a small sample dataframe
df = pd.DataFrame({
    'x': [1,2,3,4,5,6,7,8,9,10],
    'y': [2,4,1,8,7,3,5,9,6,10],
})

print('mean(x):', mean(df['x']))
print('median(y):', median(df['y']))
print('mode(y):', mode(df['y']))
print('variance(x):', variance(df['x']))
print('stddev(x):', stddev(df['x']))
display(correlation_matrix(df))

# Plot example
histogram(df, 'x', bins=5, out='hist_x.png')
print('Saved histogram to hist_x.png')
